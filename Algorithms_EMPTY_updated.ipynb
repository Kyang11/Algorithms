{
 "cells": [
  {
   "cell_type": "markdown",
   "metadata": {},
   "source": [
    "# Classic Algorithms"
   ]
  },
  {
   "cell_type": "markdown",
   "metadata": {},
   "source": [
    "## Tasks Today:\n",
    "\n",
    "<b>Continue from yesterday:</b><br>\n",
    "&nbsp;&nbsp;&nbsp;&nbsp; - Generators\n",
    " \n",
    "1) <b>In-Place Algorithms</b> <br>\n",
    " &nbsp;&nbsp;&nbsp;&nbsp; a) Syntax <br>\n",
    " &nbsp;&nbsp;&nbsp;&nbsp; a) Out of Place Algorithm <br>\n",
    " &nbsp;&nbsp;&nbsp;&nbsp; b) In-Class Exercise #1 <br>\n",
    "2) <b>Two Pointers</b> <br>\n",
    "3) <b>Sorting Algorithms</b> <br>\n",
    "4) <b>Merge Sort</b> <br>\n",
    " &nbsp;&nbsp;&nbsp;&nbsp; a) Video on Algorithms <br>\n",
    " &nbsp;&nbsp;&nbsp;&nbsp; b) How it Works <br>\n",
    "5) <b>Exercises</b> <br>\n",
    " &nbsp;&nbsp;&nbsp;&nbsp; a) Exercise #1 - Reverse a List in Place Using an In-Place Algorithm <br>\n",
    " &nbsp;&nbsp;&nbsp;&nbsp; b) Exercise #2 - Find Distinct Words <br>\n",
    " &nbsp;&nbsp;&nbsp;&nbsp; c) Exercise #3 - Write a program to implement a Linear Search Algorithm. <br>"
   ]
  },
  {
   "cell_type": "markdown",
   "metadata": {},
   "source": [
    "## Generators <br>\n",
    "<p>Generators are a type of iterable, like lists or tuples. They do not allow indexing, but they can still be iterated through with for loops. They are created using functions and the yield statement.</p>"
   ]
  },
  {
   "cell_type": "code",
   "execution_count": null,
   "metadata": {},
   "outputs": [],
   "source": [
    "def myrange(start, stop, step=2):\n",
    "    while start<stop:\n",
    "        yield start # yied denoted a generator \n",
    "        start +=step\n",
    "x= myrange(4,20)\n",
    "print(x)\n",
    "\n",
    "for i in x:\n",
    "    print(i)\n",
    "\n",
    "    "
   ]
  },
  {
   "cell_type": "markdown",
   "metadata": {},
   "source": [
    "#### Yield Keyword <br>\n",
    "<p>The yield keyword denotes a generator, it doesn't return so it won't leave the function and reset all variables in the function scope, instead it yields the number back to the caller.</p>"
   ]
  },
  {
   "cell_type": "code",
   "execution_count": null,
   "metadata": {},
   "outputs": [],
   "source": []
  },
  {
   "cell_type": "markdown",
   "metadata": {},
   "source": [
    "#### Infinite Generator"
   ]
  },
  {
   "cell_type": "code",
   "execution_count": null,
   "metadata": {},
   "outputs": [],
   "source": [
    "# bad!! never create infinite loops"
   ]
  },
  {
   "cell_type": "code",
   "execution_count": null,
   "metadata": {},
   "outputs": [],
   "source": []
  },
  {
   "cell_type": "markdown",
   "metadata": {},
   "source": [
    "#### In-Class Exercise #6 <br>\n",
    "<p>Create a generator that takes a number argument and yields that number squared, then prints each number squared until zero is reached.</p>"
   ]
  },
  {
   "cell_type": "code",
   "execution_count": null,
   "metadata": {},
   "outputs": [],
   "source": [
    "def myrange(start, stop, step=1):\n",
    "    while start!=stop:\n",
    "        yield start**2 # yied denoted a generator \n",
    "        start == step\n",
    "x= myrange(5,1)\n",
    "print(x)\n",
    "\n",
    "for i in x:\n",
    "    print(i)"
   ]
  },
  {
   "cell_type": "markdown",
   "metadata": {},
   "source": [
    "## In-Place Algorithms"
   ]
  },
  {
   "cell_type": "markdown",
   "metadata": {},
   "source": [
    "#### Syntax"
   ]
  },
  {
   "cell_type": "code",
   "execution_count": 8,
   "metadata": {},
   "outputs": [
    {
     "name": "stdout",
     "output_type": "stream",
     "text": [
      "Before swap: [20, 4, 10]\n"
     ]
    },
    {
     "ename": "TypeError",
     "evalue": "swap() takes 3 positional arguments but 4 were given",
     "output_type": "error",
     "traceback": [
      "\u001b[1;31m---------------------------------------------------------------------------\u001b[0m",
      "\u001b[1;31mTypeError\u001b[0m                                 Traceback (most recent call last)",
      "\u001b[1;32mC:\\Users\\KUYANG~1\\AppData\\Local\\Temp/ipykernel_21708/564625252.py\u001b[0m in \u001b[0;36m<module>\u001b[1;34m\u001b[0m\n\u001b[0;32m     11\u001b[0m \u001b[1;33m\u001b[0m\u001b[0m\n\u001b[0;32m     12\u001b[0m \u001b[1;33m\u001b[0m\u001b[0m\n\u001b[1;32m---> 13\u001b[1;33m \u001b[0mswap\u001b[0m\u001b[1;33m(\u001b[0m\u001b[0mmy_list\u001b[0m\u001b[1;33m,\u001b[0m\u001b[1;36m0\u001b[0m\u001b[1;33m,\u001b[0m\u001b[1;36m1\u001b[0m\u001b[1;33m,\u001b[0m\u001b[1;36m2\u001b[0m\u001b[1;33m)\u001b[0m\u001b[1;33m\u001b[0m\u001b[1;33m\u001b[0m\u001b[0m\n\u001b[0m\u001b[0;32m     14\u001b[0m \u001b[1;33m\u001b[0m\u001b[0m\n\u001b[0;32m     15\u001b[0m \u001b[0mswap\u001b[0m\u001b[1;33m(\u001b[0m\u001b[0mmy_list\u001b[0m\u001b[1;33m,\u001b[0m\u001b[1;36m2\u001b[0m\u001b[1;33m,\u001b[0m\u001b[1;36m0\u001b[0m\u001b[1;33m,\u001b[0m\u001b[1;36m1\u001b[0m\u001b[1;33m)\u001b[0m\u001b[1;33m\u001b[0m\u001b[1;33m\u001b[0m\u001b[0m\n",
      "\u001b[1;31mTypeError\u001b[0m: swap() takes 3 positional arguments but 4 were given"
     ]
    }
   ],
   "source": [
    "# swap algoritem \n",
    "\n",
    "# var[i],var[i + 1] = var[i + 1], var[i]\n",
    "# Sometimes known as a swap algorithm\n",
    "def swap(alist,x,y):\n",
    "    alist[x],alist[y] = alist[y],alist[x]\n",
    "    return\n",
    "\n",
    "my_list = [20,4,10]\n",
    "print(f\"Before swap: {my_list}\")\n",
    "\n",
    "swap(my_list,0,1,2)\n",
    "\n",
    "swap(my_list,2,0,1)\n",
    "\n",
    "\n",
    "print(f\"AFTER swap: {my_list}\")"
   ]
  },
  {
   "cell_type": "code",
   "execution_count": 7,
   "metadata": {},
   "outputs": [
    {
     "name": "stdout",
     "output_type": "stream",
     "text": [
      "before swap: [4, 20, 10, 5, 13]\n",
      "after swap: [4, 13, 10, 5, 20]\n"
     ]
    }
   ],
   "source": [
    "# swap algorithm\n",
    "def swap(list1, x, y):\n",
    "    list1[x], list1[y] = list1[y], list1[x]\n",
    "    return\n",
    "\n",
    "myList = [4, 20, 10, 5, 13]\n",
    "print(f'before swap: {myList}')\n",
    "\n",
    "output = swap(myList, 1, -1)\n",
    "\n",
    "print(f'after swap: {myList}')\n",
    "\n"
   ]
  },
  {
   "cell_type": "markdown",
   "metadata": {},
   "source": [
    "#### Out of Place Algorithm"
   ]
  },
  {
   "cell_type": "code",
   "execution_count": 3,
   "metadata": {},
   "outputs": [
    {
     "name": "stdout",
     "output_type": "stream",
     "text": [
      "before swap: [4, 20, 10, 5, 13]\n",
      "after swap: [4, 20, 10, 5, 13]\n",
      "output: [4, 13, 10, 5, 20]\n"
     ]
    }
   ],
   "source": [
    "def swap(list1, x, y):\n",
    "    copy = list1[:]\n",
    "    copy[x], copy[y] = list1[y], list1[x]\n",
    "    return copy\n",
    "\n",
    "myList = [4, 20, 10, 5, 13]\n",
    "print(f'before swap: {myList}')\n",
    "\n",
    "output = swap(myList, 1, -1)\n",
    "\n",
    "print(f'after swap: {myList}')\n",
    "print('output:', output)\n",
    "\n"
   ]
  },
  {
   "cell_type": "markdown",
   "metadata": {},
   "source": [
    "#### In-Class Exercise #1 <br>\n",
    "<p>Write a function that takes in four arguments (list, index1, index2, index3), and swaps those three positions in the list passed in.</p>"
   ]
  },
  {
   "cell_type": "code",
   "execution_count": 5,
   "metadata": {},
   "outputs": [
    {
     "name": "stdout",
     "output_type": "stream",
     "text": [
      "[10, 4, 3, 8, 4, 2, 6] 1 2\n"
     ]
    }
   ],
   "source": [
    "l_1 = [10, 4, 3, 8, 4, 2, 6]\n",
    "\n",
    "def swap(list1, x, y, z):\n",
    "    list1[x], list1[y], list1[z] = list1[x], list1[y], list1[x]\n",
    "    return list1\n",
    "print(l_1, 1, 2)\n",
    "    "
   ]
  },
  {
   "cell_type": "markdown",
   "metadata": {},
   "source": [
    "## Two Pointers"
   ]
  },
  {
   "cell_type": "markdown",
   "metadata": {},
   "source": [
    "#### Syntax"
   ]
  },
  {
   "cell_type": "code",
   "execution_count": 15,
   "metadata": {},
   "outputs": [
    {
     "name": "stdout",
     "output_type": "stream",
     "text": [
      "[44, 25, 4, 2, 1, 3, 4, 2, 4, 1]\n"
     ]
    }
   ],
   "source": [
    "def twopoint(list1):\n",
    "    left =0\n",
    "    right= len(list1)-1\n",
    "    while left<right:\n",
    "        list1[left], list1[right] =list1[right], list1[left]\n",
    "        left+=1\n",
    "        right-=1\n",
    "    return \n",
    "mylist=[1,4,2,4,3,1,2,4,25,44]\n",
    "twopoint(mylist)\n",
    "print(mylist)"
   ]
  },
  {
   "cell_type": "markdown",
   "metadata": {},
   "source": [
    "#### Video of Algorithms <br>\n",
    "<p>Watch the video about algorithms.</p>\n",
    "\n",
    "https://www.youtube.com/watch?v=Q9HjeFD62Uk\n",
    "\n",
    "https://www.youtube.com/watch?v=kPRA0W1kECg\n",
    "\n",
    "https://www.youtube.com/watch?v=ZZuD6iUe3Pc"
   ]
  },
  {
   "cell_type": "markdown",
   "metadata": {},
   "source": [
    "# Sorting Algorithms"
   ]
  },
  {
   "cell_type": "code",
   "execution_count": 27,
   "metadata": {},
   "outputs": [
    {
     "name": "stdout",
     "output_type": "stream",
     "text": [
      "[1, 4, 5, 7, 10, 18, 20, 21, 22]\n"
     ]
    }
   ],
   "source": [
    "def swap(list1, x, y):\n",
    "    list1[x], list1[y] = list1[y], list1[x]\n",
    "    return\n",
    "\n",
    "def bubbleSort(nums):\n",
    "    isSorted = False\n",
    "    count = 0\n",
    "    \n",
    "    while isSorted == False:\n",
    "        performedSwap = False\n",
    "        for i in range(len(nums)-1-count):\n",
    "            #if right num is smaller, then swap\n",
    "            if nums[i] > nums[i+1]:\n",
    "                swap(nums, i, i+1)\n",
    "                performedSwap = True\n",
    "                \n",
    "        if performedSwap == False:\n",
    "            \n",
    "            isSorted = True\n",
    "                \n",
    "        \n",
    "        count += 1\n",
    "        if count == len(nums)-1:\n",
    "            isSorted = True\n",
    "            \n",
    "myList = [1,7,18,21,4,5,20,22,10]\n",
    "sortedList = [1,2,3,4,5,6,7,8,9]\n",
    "bubbleSort(myList)\n",
    "print(myList)\n"
   ]
  },
  {
   "cell_type": "markdown",
   "metadata": {},
   "source": [
    "#### Bubble Sort\n",
    "\n",
    "Worst Case: O(n^2) Time - O(1) Space"
   ]
  },
  {
   "cell_type": "code",
   "execution_count": 28,
   "metadata": {},
   "outputs": [
    {
     "ename": "SyntaxError",
     "evalue": "invalid syntax (Temp/ipykernel_15776/2668127246.py, line 2)",
     "output_type": "error",
     "traceback": [
      "\u001b[1;36m  File \u001b[1;32m\"C:\\Users\\KUYANG~1\\AppData\\Local\\Temp/ipykernel_15776/2668127246.py\"\u001b[1;36m, line \u001b[1;32m2\u001b[0m\n\u001b[1;33m    for i range(1, len(nums)):\u001b[0m\n\u001b[1;37m          ^\u001b[0m\n\u001b[1;31mSyntaxError\u001b[0m\u001b[1;31m:\u001b[0m invalid syntax\n"
     ]
    }
   ],
   "source": [
    "def swap(list1, x, y):\n",
    "    list1[x], list1[y] = list1[y], list1[x]\n",
    "    return\n",
    "\n",
    "def bubbleSort(nums):\n",
    "    isSorted = False\n",
    "    count = 0\n",
    "    \n",
    "    while isSorted == False:\n",
    "        performedSwap = False\n",
    "        for i in range(len(nums)-1-count):\n",
    "            #if right num is smaller, then swap\n",
    "            if nums[i] > nums[i+1]:\n",
    "                swap(nums, i, i+1)\n",
    "                performedSwap = True\n",
    "                \n",
    "        if performedSwap == False:\n",
    "            \n",
    "            isSorted = True\n",
    "                \n",
    "        \n",
    "        count += 1\n",
    "        if count == len(nums)-1:\n",
    "            isSorted = True\n",
    "            \n",
    "myList = [1,7,18,21,4,5,20,22,10]\n",
    "sortedList = [1,2,3,4,5,6,7,8,9]\n",
    "bubbleSort(myList)\n",
    "print(myList)"
   ]
  },
  {
   "cell_type": "markdown",
   "metadata": {},
   "source": [
    "##### Insertion Sort\n",
    "\n",
    "Worst Case: O(n^2) time - O(1)space"
   ]
  },
  {
   "cell_type": "code",
   "execution_count": 31,
   "metadata": {},
   "outputs": [
    {
     "name": "stdout",
     "output_type": "stream",
     "text": [
      "[25, 4, 2, 1, 3, 4, 2, 4, 1, 44]\n"
     ]
    }
   ],
   "source": [
    "def insertsort(nums):\n",
    "    for i in range(1, len(nums)):\n",
    "        j=i\n",
    "        while j > 0 and nums[j] <nums[j-1]:\n",
    "            swap(nums, j, j-1)\n",
    "        j-=1\n",
    "myList = [1,7,18,21,4,5,20,22,10]\n",
    "insertsort(mylist)\n",
    "print(mylist)\n",
    "        "
   ]
  },
  {
   "cell_type": "markdown",
   "metadata": {},
   "source": [
    "## Merge Sort"
   ]
  },
  {
   "cell_type": "markdown",
   "metadata": {},
   "source": [
    "#### How it Works"
   ]
  },
  {
   "cell_type": "code",
   "execution_count": null,
   "metadata": {},
   "outputs": [],
   "source": [
    "def mergeSort(nums):\n",
    "    #step 1: divide into equal halves\n",
    "    if len(nums)>1:\n",
    "        mid = len(nums)//2\n",
    "        lefthalf = nums[:mid]\n",
    "        righthalf = nums[mid:]\n",
    "        \n",
    "        # recursively split left and right halves if needed\n",
    "        mergeSort(lefthalf)\n",
    "        mergeSort(righthalf)\n",
    "        \n",
    "        # index pointer for 3 lists\n",
    "        i = 0 # pointer for the left \n",
    "        j = 0 # pointer for the right\n",
    "        k = 0 # pointer for the main list\n",
    "        \n",
    "        # step 2: merge lists\n",
    "        while i<len(lefthalf) and j<len(righthalf):\n",
    "            if lefthalf[i] < righthalf[j]:\n",
    "                nums[k] = lefthalf[i]\n",
    "                i += 1\n",
    "            else:\n",
    "                nums[k] = righthalf[j]\n",
    "                j += 1\n",
    "            k+=1\n",
    "            \n",
    "        #step 3: when one side finishes.. place the other list into the main array\n",
    "        while i < len(lefthalf):\n",
    "            nums[k] = lefthalf[i]\n",
    "            i+=1\n",
    "            k+=1\n",
    "        while j < len(righthalf):\n",
    "            nums[k] = righthalf[j]\n",
    "            j+=1\n",
    "            k+=1\n",
    "        \n",
    "    return"
   ]
  },
  {
   "cell_type": "markdown",
   "metadata": {},
   "source": [
    "# Binary Search\n",
    "\n",
    "The Binary Search algorithm works by finding the number in the middle of a given array and comparing it to the target. Given that the array is sorted\n",
    "\n",
    "* The worst case run time for this algorithm is `O(log(n))`"
   ]
  },
  {
   "cell_type": "code",
   "execution_count": 37,
   "metadata": {},
   "outputs": [
    {
     "name": "stdout",
     "output_type": "stream",
     "text": [
      "[1, 2, 3, 3, 3, 3, 3, 3, 5, 5, 32, 34, 42, 43, 54, 54, 54, 65, 74, 432, 534, 534, 543, 554, 643, 645, 765]\n"
     ]
    },
    {
     "data": {
      "text/plain": [
       "'I found my match 43 at index 13'"
      ]
     },
     "execution_count": 37,
     "metadata": {},
     "output_type": "execute_result"
    }
   ],
   "source": [
    "def binarySearch(list1, target):\n",
    "    left = 0\n",
    "    right = len(list1)\n",
    "    while left<right:\n",
    "        middle = (left + right) // 2\n",
    "        potentialMatch = list1[middle]\n",
    "        if target == potentialMatch:\n",
    "            return f'I found my match {potentialMatch} at index {middle}'\n",
    "        elif target < potentialMatch:\n",
    "            right = middle-1\n",
    "        else:\n",
    "            left = middle + 1\n",
    "    return \"Not Found\"\n",
    "\n",
    "x = sorted([1,2,534,765,32,3,54,43,534,645,74,543,432,643,65,5,54,34,3,42,554,54,3,3,3,3,5])\n",
    "print(x)\n",
    "binarySearch(x, 43)\n"
   ]
  },
  {
   "cell_type": "markdown",
   "metadata": {},
   "source": [
    "# Exercises"
   ]
  },
  {
   "cell_type": "markdown",
   "metadata": {},
   "source": [
    "### Exercise #1 <br>\n",
    "<p>Reverse the list below in-place using an in-place algorithm.<br>For extra credit: Reverse the strings at the same time.</p>"
   ]
  },
  {
   "cell_type": "code",
   "execution_count": null,
   "metadata": {},
   "outputs": [],
   "source": [
    "words = ['this' , 'is', 'a', 'sentence', '.']\n"
   ]
  },
  {
   "cell_type": "markdown",
   "metadata": {},
   "source": [
    "### Exercise #2 <br>\n",
    "<p>Create a function that counts how many distinct words are in the string below, then outputs a dictionary with the words as the key and the value as the amount of times that word appears in the string.<br>Should output:<br>{'a': 5,<br>\n",
    " 'abstract': 1,<br>\n",
    " 'an': 3,<br>\n",
    " 'array': 2, ... etc...</p>"
   ]
  },
  {
   "cell_type": "code",
   "execution_count": null,
   "metadata": {},
   "outputs": [],
   "source": [
    "a_text = 'In computing, a hash table hash map is a data structure which implements an associative array abstract data type, a structure that can map keys to values. A hash table uses a hash function to compute an index into an array of buckets or slots from which the desired value can be found'\n",
    "\n"
   ]
  },
  {
   "cell_type": "markdown",
   "metadata": {},
   "source": [
    "## Exercise #3\n",
    "\n",
    "Write a program to implement a Linear Search Algorithm. Also in a comment, write the Time Complexity of the following algorithm.\n",
    "\n",
    "#### Hint: Linear Searching will require searching a list for a given number. "
   ]
  },
  {
   "cell_type": "code",
   "execution_count": null,
   "metadata": {},
   "outputs": [],
   "source": []
  }
 ],
 "metadata": {
  "kernelspec": {
   "display_name": "Python 3 (ipykernel)",
   "language": "python",
   "name": "python3"
  },
  "language_info": {
   "codemirror_mode": {
    "name": "ipython",
    "version": 3
   },
   "file_extension": ".py",
   "mimetype": "text/x-python",
   "name": "python",
   "nbconvert_exporter": "python",
   "pygments_lexer": "ipython3",
   "version": "3.9.7"
  }
 },
 "nbformat": 4,
 "nbformat_minor": 2
}
