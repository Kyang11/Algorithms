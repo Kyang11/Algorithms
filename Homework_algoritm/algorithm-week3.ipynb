{
 "cells": [
  {
   "cell_type": "markdown",
   "id": "6c575764",
   "metadata": {},
   "source": [
    "#### Exercise #1\n",
    "Reverse the list below in-place using an in-place algorithm.\n",
    "For extra credit: Reverse the strings at the same time."
   ]
  },
  {
   "cell_type": "code",
   "execution_count": 7,
   "id": "9a2b3bb1",
   "metadata": {},
   "outputs": [
    {
     "name": "stdout",
     "output_type": "stream",
     "text": [
      "['.', 'a', 'is', 'sentence', 'this']\n"
     ]
    }
   ],
   "source": [
    "# Given \n",
    "# words = ['this' , 'is', 'a', 'sentence', '.']\n",
    "\n",
    "\n",
    "def reverse(words):\n",
    "    left = 0\n",
    "    right = len(words)-1\n",
    "    while left < right:\n",
    "        words[left], words[right]=words[right], words[left]\n",
    "#         temp = words[left]\n",
    "#         words[left]= words[right]\n",
    "#         words[right]= temp\n",
    "        left+=1\n",
    "        right -=1\n",
    "        \n",
    "    return sorted(words)\n",
    "words = ['this' , 'is', 'a', 'sentence', '.']\n",
    "\n",
    "print(reverse(words))\n"
   ]
  },
  {
   "cell_type": "markdown",
   "id": "d2214ba5",
   "metadata": {},
   "source": [
    "#### Exercise #2\n",
    "Create a function that counts how many distinct words are in the string below, then outputs a dictionary with the words as the key and the value as the amount of times that word appears in the string.\n",
    "Should output:\n",
    "{'a': 5,\n",
    "'abstract': 1,\n",
    "'an': 3,\n",
    "'array': 2, ... etc..."
   ]
  },
  {
   "cell_type": "code",
   "execution_count": null,
   "id": "3a54420a",
   "metadata": {},
   "outputs": [],
   "source": [
    "# given \n",
    "# a_text = 'In computing, a hash table hash map is a data structure which implements an associative array abstract data type, a structure that can map keys to values. A hash table uses a hash function to compute an index into an array of buckets or slots from which the desired value can be found'\n",
    "\n",
    "def distinct(string):\n",
    "    words=string.lower().split()\n",
    "    empty={}\n",
    "    for word in words:\n",
    "        empty[word]=0\n",
    "    for word in words:\n",
    "        empty[word] +=1\n",
    "    print(empty)\n",
    "    return empty\n",
    "a_text = 'In computing, a hash table hash map is a data structure which implements an associative array abstract data type, a structure that can map keys to values. A hash table uses a hash function to compute an index into an array of buckets or slots from which the desired value can be found'\n",
    "print(distinct(a_text))"
   ]
  },
  {
   "cell_type": "markdown",
   "id": "5b18ed6b",
   "metadata": {},
   "source": [
    "#### Exercise #3\n",
    "Write a program to implement a Linear Search Algorithm. Also in a comment, write the Time Complexity of the following algorithm.\n",
    "\n",
    "Hint: Linear Searching will require searching a list for a given number."
   ]
  },
  {
   "cell_type": "code",
   "execution_count": null,
   "id": "20b97bf3",
   "metadata": {},
   "outputs": [],
   "source": [
    "import random\n",
    "\n",
    "def search(lists,number):\n",
    "    for i in range(len(lists)):\n",
    "        if lists[i] ==number:\n",
    "            return \"The index position of 24 is \", i\n",
    "    return -1                   \n",
    "def randomlist(n):\n",
    "    lists=[]\n",
    "    for i in range(n):\n",
    "        lists.append(random.randrange(0,n))\n",
    "    return lists\n",
    "lists = randomlist(50)\n",
    "print(search(lists, 24))\n",
    "print(lists)"
   ]
  },
  {
   "cell_type": "code",
   "execution_count": null,
   "id": "9a13e933",
   "metadata": {},
   "outputs": [],
   "source": []
  }
 ],
 "metadata": {
  "kernelspec": {
   "display_name": "Python 3 (ipykernel)",
   "language": "python",
   "name": "python3"
  },
  "language_info": {
   "codemirror_mode": {
    "name": "ipython",
    "version": 3
   },
   "file_extension": ".py",
   "mimetype": "text/x-python",
   "name": "python",
   "nbconvert_exporter": "python",
   "pygments_lexer": "ipython3",
   "version": "3.10.2"
  }
 },
 "nbformat": 4,
 "nbformat_minor": 5
}
